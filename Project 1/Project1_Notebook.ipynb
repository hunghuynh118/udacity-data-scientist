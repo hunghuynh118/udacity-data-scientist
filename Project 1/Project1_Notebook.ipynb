{
 "cells": [
  {
   "cell_type": "markdown",
   "metadata": {},
   "source": [
    "# What factors should we consider when buying a used car?\n",
    "### by Hung Huynh "
   ]
  },
  {
   "cell_type": "markdown",
   "metadata": {},
   "source": [
    "## Table of Contents\n",
    "- [Introduction](#Introduction)\n",
    "- [Business Understanding](#Business-Understanding)\n",
    "- [Exploratory Data Analysis](#Exploratory-Data-Analysis)\n",
    "  - [Prepare Data](#Prepare-Data)\n",
    "  - [Assessing the Data](#Assessing-the-Data)\n",
    "  - [Cleaning the Data](#Cleaning-the-Data)\n",
    "  - [Analyse and Visualise](#Analyse-and-Visualise)\n",
    "- [Data Modeling](#Data-Modeling)\n",
    "- [Conclusion](#Conclusion)"
   ]
  },
  {
   "cell_type": "markdown",
   "metadata": {},
   "source": [
    "## Introduction\n",
    "In this project, I decided to analyse the Used Cars dataset found on [Kaggle](https://www.kaggle.com/datasets/thedevastator/uncovering-factors-that-affect-used-car-prices) using the CRISP-DM process. I also try predicting price of used cars using machine learning model."
   ]
  },
  {
   "cell_type": "markdown",
   "metadata": {},
   "source": [
    "## Business Understanding\n",
    "What factors should we consider when buying a used car? Well, it's touch question. We will break it down and go through 3 small questions before making the final decision.\n",
    "- What factors affect the price of a used car?\n",
    "- Which brands have most used cars?\n",
    "- Should we choose an automatic or manual car?"
   ]
  },
  {
   "cell_type": "markdown",
   "metadata": {},
   "source": [
    "## Exploratory Data Analysis\n",
    "### Prepare Data\n",
    "To get started, let's import some necessary libraries and read in our dataset."
   ]
  },
  {
   "cell_type": "code",
   "execution_count": 1,
   "metadata": {},
   "outputs": [],
   "source": [
    "# import necessary libraries\n",
    "import matplotlib.pyplot as plt\n",
    "import numpy as np\n",
    "import pandas as pd\n",
    "import seaborn as sns\n",
    "from sklearn import preprocessing\n",
    "from sklearn.ensemble import RandomForestRegressor\n",
    "from sklearn.model_selection import cross_validate"
   ]
  },
  {
   "cell_type": "code",
   "execution_count": 2,
   "metadata": {},
   "outputs": [],
   "source": [
    "# set pandas display all the columns for us easy to look\n",
    "pd.set_option('display.max_columns', None)"
   ]
  },
  {
   "cell_type": "code",
   "execution_count": 3,
   "metadata": {},
   "outputs": [
    {
     "data": {
      "text/html": [
       "<div>\n",
       "<style scoped>\n",
       "    .dataframe tbody tr th:only-of-type {\n",
       "        vertical-align: middle;\n",
       "    }\n",
       "\n",
       "    .dataframe tbody tr th {\n",
       "        vertical-align: top;\n",
       "    }\n",
       "\n",
       "    .dataframe thead th {\n",
       "        text-align: right;\n",
       "    }\n",
       "</style>\n",
       "<table border=\"1\" class=\"dataframe\">\n",
       "  <thead>\n",
       "    <tr style=\"text-align: right;\">\n",
       "      <th></th>\n",
       "      <th>dateCrawled</th>\n",
       "      <th>name</th>\n",
       "      <th>seller</th>\n",
       "      <th>offerType</th>\n",
       "      <th>price</th>\n",
       "      <th>abtest</th>\n",
       "      <th>vehicleType</th>\n",
       "      <th>yearOfRegistration</th>\n",
       "      <th>gearbox</th>\n",
       "      <th>powerPS</th>\n",
       "      <th>model</th>\n",
       "      <th>kilometer</th>\n",
       "      <th>monthOfRegistration</th>\n",
       "      <th>fuelType</th>\n",
       "      <th>brand</th>\n",
       "      <th>notRepairedDamage</th>\n",
       "      <th>dateCreated</th>\n",
       "      <th>nrOfPictures</th>\n",
       "      <th>postalCode</th>\n",
       "      <th>lastSeen</th>\n",
       "    </tr>\n",
       "  </thead>\n",
       "  <tbody>\n",
       "    <tr>\n",
       "      <th>0</th>\n",
       "      <td>2016-03-24 11:52:17</td>\n",
       "      <td>Golf_3_1.6</td>\n",
       "      <td>privat</td>\n",
       "      <td>Angebot</td>\n",
       "      <td>480</td>\n",
       "      <td>test</td>\n",
       "      <td>NaN</td>\n",
       "      <td>1993</td>\n",
       "      <td>manuell</td>\n",
       "      <td>0</td>\n",
       "      <td>golf</td>\n",
       "      <td>150000</td>\n",
       "      <td>0</td>\n",
       "      <td>benzin</td>\n",
       "      <td>volkswagen</td>\n",
       "      <td>NaN</td>\n",
       "      <td>2016-03-24 00:00:00</td>\n",
       "      <td>0</td>\n",
       "      <td>70435</td>\n",
       "      <td>2016-04-07 03:16:57</td>\n",
       "    </tr>\n",
       "    <tr>\n",
       "      <th>1</th>\n",
       "      <td>2016-03-24 10:58:45</td>\n",
       "      <td>A5_Sportback_2.7_Tdi</td>\n",
       "      <td>privat</td>\n",
       "      <td>Angebot</td>\n",
       "      <td>18300</td>\n",
       "      <td>test</td>\n",
       "      <td>coupe</td>\n",
       "      <td>2011</td>\n",
       "      <td>manuell</td>\n",
       "      <td>190</td>\n",
       "      <td>NaN</td>\n",
       "      <td>125000</td>\n",
       "      <td>5</td>\n",
       "      <td>diesel</td>\n",
       "      <td>audi</td>\n",
       "      <td>ja</td>\n",
       "      <td>2016-03-24 00:00:00</td>\n",
       "      <td>0</td>\n",
       "      <td>66954</td>\n",
       "      <td>2016-04-07 01:46:50</td>\n",
       "    </tr>\n",
       "    <tr>\n",
       "      <th>2</th>\n",
       "      <td>2016-03-14 12:52:21</td>\n",
       "      <td>Jeep_Grand_Cherokee_\"Overland\"</td>\n",
       "      <td>privat</td>\n",
       "      <td>Angebot</td>\n",
       "      <td>9800</td>\n",
       "      <td>test</td>\n",
       "      <td>suv</td>\n",
       "      <td>2004</td>\n",
       "      <td>automatik</td>\n",
       "      <td>163</td>\n",
       "      <td>grand</td>\n",
       "      <td>125000</td>\n",
       "      <td>8</td>\n",
       "      <td>diesel</td>\n",
       "      <td>jeep</td>\n",
       "      <td>NaN</td>\n",
       "      <td>2016-03-14 00:00:00</td>\n",
       "      <td>0</td>\n",
       "      <td>90480</td>\n",
       "      <td>2016-04-05 12:47:46</td>\n",
       "    </tr>\n",
       "    <tr>\n",
       "      <th>3</th>\n",
       "      <td>2016-03-17 16:54:04</td>\n",
       "      <td>GOLF_4_1_4__3TÜRER</td>\n",
       "      <td>privat</td>\n",
       "      <td>Angebot</td>\n",
       "      <td>1500</td>\n",
       "      <td>test</td>\n",
       "      <td>kleinwagen</td>\n",
       "      <td>2001</td>\n",
       "      <td>manuell</td>\n",
       "      <td>75</td>\n",
       "      <td>golf</td>\n",
       "      <td>150000</td>\n",
       "      <td>6</td>\n",
       "      <td>benzin</td>\n",
       "      <td>volkswagen</td>\n",
       "      <td>nein</td>\n",
       "      <td>2016-03-17 00:00:00</td>\n",
       "      <td>0</td>\n",
       "      <td>91074</td>\n",
       "      <td>2016-03-17 17:40:17</td>\n",
       "    </tr>\n",
       "    <tr>\n",
       "      <th>4</th>\n",
       "      <td>2016-03-31 17:25:20</td>\n",
       "      <td>Skoda_Fabia_1.4_TDI_PD_Classic</td>\n",
       "      <td>privat</td>\n",
       "      <td>Angebot</td>\n",
       "      <td>3600</td>\n",
       "      <td>test</td>\n",
       "      <td>kleinwagen</td>\n",
       "      <td>2008</td>\n",
       "      <td>manuell</td>\n",
       "      <td>69</td>\n",
       "      <td>fabia</td>\n",
       "      <td>90000</td>\n",
       "      <td>7</td>\n",
       "      <td>diesel</td>\n",
       "      <td>skoda</td>\n",
       "      <td>nein</td>\n",
       "      <td>2016-03-31 00:00:00</td>\n",
       "      <td>0</td>\n",
       "      <td>60437</td>\n",
       "      <td>2016-04-06 10:17:21</td>\n",
       "    </tr>\n",
       "  </tbody>\n",
       "</table>\n",
       "</div>"
      ],
      "text/plain": [
       "           dateCrawled                            name  seller offerType  \\\n",
       "0  2016-03-24 11:52:17                      Golf_3_1.6  privat   Angebot   \n",
       "1  2016-03-24 10:58:45            A5_Sportback_2.7_Tdi  privat   Angebot   \n",
       "2  2016-03-14 12:52:21  Jeep_Grand_Cherokee_\"Overland\"  privat   Angebot   \n",
       "3  2016-03-17 16:54:04              GOLF_4_1_4__3TÜRER  privat   Angebot   \n",
       "4  2016-03-31 17:25:20  Skoda_Fabia_1.4_TDI_PD_Classic  privat   Angebot   \n",
       "\n",
       "   price abtest vehicleType  yearOfRegistration    gearbox  powerPS  model  \\\n",
       "0    480   test         NaN                1993    manuell        0   golf   \n",
       "1  18300   test       coupe                2011    manuell      190    NaN   \n",
       "2   9800   test         suv                2004  automatik      163  grand   \n",
       "3   1500   test  kleinwagen                2001    manuell       75   golf   \n",
       "4   3600   test  kleinwagen                2008    manuell       69  fabia   \n",
       "\n",
       "   kilometer  monthOfRegistration fuelType       brand notRepairedDamage  \\\n",
       "0     150000                    0   benzin  volkswagen               NaN   \n",
       "1     125000                    5   diesel        audi                ja   \n",
       "2     125000                    8   diesel        jeep               NaN   \n",
       "3     150000                    6   benzin  volkswagen              nein   \n",
       "4      90000                    7   diesel       skoda              nein   \n",
       "\n",
       "           dateCreated  nrOfPictures  postalCode             lastSeen  \n",
       "0  2016-03-24 00:00:00             0       70435  2016-04-07 03:16:57  \n",
       "1  2016-03-24 00:00:00             0       66954  2016-04-07 01:46:50  \n",
       "2  2016-03-14 00:00:00             0       90480  2016-04-05 12:47:46  \n",
       "3  2016-03-17 00:00:00             0       91074  2016-03-17 17:40:17  \n",
       "4  2016-03-31 00:00:00             0       60437  2016-04-06 10:17:21  "
      ]
     },
     "execution_count": 3,
     "metadata": {},
     "output_type": "execute_result"
    }
   ],
   "source": [
    "# read in the dataset\n",
    "df = pd.read_csv('./data/autos.csv').drop('index', axis=1)\n",
    "df.head()"
   ]
  },
  {
   "cell_type": "markdown",
   "metadata": {},
   "source": [
    "### Assessing the Data"
   ]
  },
  {
   "cell_type": "code",
   "execution_count": 4,
   "metadata": {},
   "outputs": [
    {
     "data": {
      "text/plain": [
       "(371528, 20)"
      ]
     },
     "execution_count": 4,
     "metadata": {},
     "output_type": "execute_result"
    }
   ],
   "source": [
    "# view size of the dataset\n",
    "df.shape"
   ]
  },
  {
   "cell_type": "markdown",
   "metadata": {},
   "source": [
    "Our dataset has 371,528 rows and 20 columns. Each row contains information of an used car. Whereas each column represents a feature of the vehicle.\n",
    "- `dateCrawled`: date the ad was crawled\n",
    "- `name`: name of the car\n",
    "- `seller`: type of seller (private or dealer)\n",
    "- `offerType`: type of offter (e.g. sale, repair, etc.)\n",
    "- `price`: price of the car\n",
    "- `abtest`: test type (A or B)\n",
    "- `vehicleType`: type of vehicle (e.g. SUV, sedan, etc.)\n",
    "- `yearOfRegistration`: year the car was registered\n",
    "- `gearbox`: type of gearbox (manual or automatic)\n",
    "- `powerPS`: power of the car in PS\n",
    "- `model`: model of the car\n",
    "- `kilometer`: kilometers the car has been driven\n",
    "- `monthOfRegistration`: month the car was registered\n",
    "- `fuelType`: type of fuel (e.g. diesel, petrol, etc.)\n",
    "- `brand`: brand of the car\n",
    "- `notRepairedDamage`: whether or not the car has any damage that has not been repaired\n",
    "- `dateCreated`: date the ad was created\n",
    "- `nrOfPictures`: number of pictures of the car\n",
    "- `postalCode`: postal code of the car\n",
    "- `lastSeen`: date the ad was last seen"
   ]
  },
  {
   "cell_type": "code",
   "execution_count": 5,
   "metadata": {},
   "outputs": [
    {
     "name": "stdout",
     "output_type": "stream",
     "text": [
      "<class 'pandas.core.frame.DataFrame'>\n",
      "RangeIndex: 371528 entries, 0 to 371527\n",
      "Data columns (total 20 columns):\n",
      "dateCrawled            371528 non-null object\n",
      "name                   371528 non-null object\n",
      "seller                 371528 non-null object\n",
      "offerType              371528 non-null object\n",
      "price                  371528 non-null int64\n",
      "abtest                 371528 non-null object\n",
      "vehicleType            333659 non-null object\n",
      "yearOfRegistration     371528 non-null int64\n",
      "gearbox                351319 non-null object\n",
      "powerPS                371528 non-null int64\n",
      "model                  351044 non-null object\n",
      "kilometer              371528 non-null int64\n",
      "monthOfRegistration    371528 non-null int64\n",
      "fuelType               338142 non-null object\n",
      "brand                  371528 non-null object\n",
      "notRepairedDamage      299468 non-null object\n",
      "dateCreated            371528 non-null object\n",
      "nrOfPictures           371528 non-null int64\n",
      "postalCode             371528 non-null int64\n",
      "lastSeen               371528 non-null object\n",
      "dtypes: int64(7), object(13)\n",
      "memory usage: 56.7+ MB\n"
     ]
    }
   ],
   "source": [
    "# info about the dataset\n",
    "df.info()"
   ]
  },
  {
   "cell_type": "markdown",
   "metadata": {},
   "source": [
    "Let's take a look at the datatype. The `dateCrawled`, `dateCreated`, and `lastSeen` should be datatime instead of string. Also the `postalCode` has no meaning if it is numeric."
   ]
  },
  {
   "cell_type": "code",
   "execution_count": 6,
   "metadata": {},
   "outputs": [
    {
     "data": {
      "text/plain": [
       "notRepairedDamage      0.193956\n",
       "vehicleType            0.101928\n",
       "fuelType               0.089861\n",
       "model                  0.055134\n",
       "gearbox                0.054394\n",
       "lastSeen               0.000000\n",
       "yearOfRegistration     0.000000\n",
       "name                   0.000000\n",
       "seller                 0.000000\n",
       "offerType              0.000000\n",
       "price                  0.000000\n",
       "abtest                 0.000000\n",
       "powerPS                0.000000\n",
       "postalCode             0.000000\n",
       "kilometer              0.000000\n",
       "monthOfRegistration    0.000000\n",
       "brand                  0.000000\n",
       "dateCreated            0.000000\n",
       "nrOfPictures           0.000000\n",
       "dateCrawled            0.000000\n",
       "dtype: float64"
      ]
     },
     "execution_count": 6,
     "metadata": {},
     "output_type": "execute_result"
    }
   ],
   "source": [
    "# proportion of missing values in each column\n",
    "df.isnull().mean().sort_values(ascending=False)"
   ]
  },
  {
   "cell_type": "markdown",
   "metadata": {},
   "source": [
    "The column `notRepairedDamage` has many missing values (nearly 20%), following by `vehicleType`, `fuelType`, `model` and `gearbox`. Other columns have no missing values."
   ]
  },
  {
   "cell_type": "code",
   "execution_count": 7,
   "metadata": {},
   "outputs": [],
   "source": [
    "def count_values(df, columns, limit=None):\n",
    "    \"\"\"\n",
    "    Display number of unique values and value counts in each column\n",
    "    :param df: the pandas dataframe\n",
    "    :param columns: the list of columns need to count values\n",
    "    :param limit: int - limit the number of values displayed, default display all\n",
    "    \"\"\"\n",
    "    for col in columns:\n",
    "        nunique = df[col].nunique()\n",
    "        print(\"=\"*30)\n",
    "        print(\"Column: {} - {} unique values\".format(col, nunique))\n",
    "        print(\"=\"*30)\n",
    "        print(df[col].value_counts()[:limit])\n",
    "        print()"
   ]
  },
  {
   "cell_type": "code",
   "execution_count": 8,
   "metadata": {},
   "outputs": [
    {
     "name": "stdout",
     "output_type": "stream",
     "text": [
      "==============================\n",
      "Column: seller - 2 unique values\n",
      "==============================\n",
      "privat        371525\n",
      "gewerblich         3\n",
      "Name: seller, dtype: int64\n",
      "\n",
      "==============================\n",
      "Column: offerType - 2 unique values\n",
      "==============================\n",
      "Angebot    371516\n",
      "Gesuch         12\n",
      "Name: offerType, dtype: int64\n",
      "\n",
      "==============================\n",
      "Column: abtest - 2 unique values\n",
      "==============================\n",
      "test       192585\n",
      "control    178943\n",
      "Name: abtest, dtype: int64\n",
      "\n",
      "==============================\n",
      "Column: vehicleType - 8 unique values\n",
      "==============================\n",
      "limousine     95894\n",
      "kleinwagen    80023\n",
      "kombi         67564\n",
      "bus           30201\n",
      "cabrio        22898\n",
      "coupe         19015\n",
      "suv           14707\n",
      "andere         3357\n",
      "Name: vehicleType, dtype: int64\n",
      "\n",
      "==============================\n",
      "Column: gearbox - 2 unique values\n",
      "==============================\n",
      "manuell      274214\n",
      "automatik     77105\n",
      "Name: gearbox, dtype: int64\n",
      "\n",
      "==============================\n",
      "Column: model - 251 unique values\n",
      "==============================\n",
      "golf        30070\n",
      "andere      26400\n",
      "3er         20567\n",
      "polo        13092\n",
      "corsa       12573\n",
      "astra       10830\n",
      "passat      10306\n",
      "a4          10257\n",
      "c_klasse     8775\n",
      "5er          8546\n",
      "Name: model, dtype: int64\n",
      "\n",
      "==============================\n",
      "Column: fuelType - 7 unique values\n",
      "==============================\n",
      "benzin     223857\n",
      "diesel     107746\n",
      "lpg          5378\n",
      "cng           571\n",
      "hybrid        278\n",
      "andere        208\n",
      "elektro       104\n",
      "Name: fuelType, dtype: int64\n",
      "\n",
      "==============================\n",
      "Column: brand - 40 unique values\n",
      "==============================\n",
      "volkswagen       79640\n",
      "bmw              40274\n",
      "opel             40136\n",
      "mercedes_benz    35309\n",
      "audi             32873\n",
      "ford             25573\n",
      "renault          17969\n",
      "peugeot          11027\n",
      "fiat              9676\n",
      "seat              7022\n",
      "Name: brand, dtype: int64\n",
      "\n",
      "==============================\n",
      "Column: notRepairedDamage - 2 unique values\n",
      "==============================\n",
      "nein    263182\n",
      "ja       36286\n",
      "Name: notRepairedDamage, dtype: int64\n",
      "\n"
     ]
    }
   ],
   "source": [
    "columns_to_check_values = ['seller', 'offerType', 'abtest', 'vehicleType', 'gearbox', \n",
    "                           'model', 'fuelType', 'brand', 'notRepairedDamage']\n",
    "count_values(df, columns_to_check_values, limit=10)"
   ]
  },
  {
   "cell_type": "markdown",
   "metadata": {},
   "source": [
    "From the above result, we can see that the `seller` and `offerType` only have 2 values, but one of them accounts for almost the entire value. Therefore in this case, two these columns are not much meaning."
   ]
  },
  {
   "cell_type": "code",
   "execution_count": 9,
   "metadata": {},
   "outputs": [
    {
     "data": {
      "text/html": [
       "<div>\n",
       "<style scoped>\n",
       "    .dataframe tbody tr th:only-of-type {\n",
       "        vertical-align: middle;\n",
       "    }\n",
       "\n",
       "    .dataframe tbody tr th {\n",
       "        vertical-align: top;\n",
       "    }\n",
       "\n",
       "    .dataframe thead th {\n",
       "        text-align: right;\n",
       "    }\n",
       "</style>\n",
       "<table border=\"1\" class=\"dataframe\">\n",
       "  <thead>\n",
       "    <tr style=\"text-align: right;\">\n",
       "      <th></th>\n",
       "      <th>price</th>\n",
       "      <th>yearOfRegistration</th>\n",
       "      <th>powerPS</th>\n",
       "      <th>kilometer</th>\n",
       "      <th>monthOfRegistration</th>\n",
       "      <th>nrOfPictures</th>\n",
       "      <th>postalCode</th>\n",
       "    </tr>\n",
       "  </thead>\n",
       "  <tbody>\n",
       "    <tr>\n",
       "      <th>count</th>\n",
       "      <td>3.715280e+05</td>\n",
       "      <td>371528.000000</td>\n",
       "      <td>371528.000000</td>\n",
       "      <td>371528.000000</td>\n",
       "      <td>371528.000000</td>\n",
       "      <td>371528.0</td>\n",
       "      <td>371528.00000</td>\n",
       "    </tr>\n",
       "    <tr>\n",
       "      <th>mean</th>\n",
       "      <td>1.729514e+04</td>\n",
       "      <td>2004.577997</td>\n",
       "      <td>115.549477</td>\n",
       "      <td>125618.688228</td>\n",
       "      <td>5.734445</td>\n",
       "      <td>0.0</td>\n",
       "      <td>50820.66764</td>\n",
       "    </tr>\n",
       "    <tr>\n",
       "      <th>std</th>\n",
       "      <td>3.587954e+06</td>\n",
       "      <td>92.866598</td>\n",
       "      <td>192.139578</td>\n",
       "      <td>40112.337051</td>\n",
       "      <td>3.712412</td>\n",
       "      <td>0.0</td>\n",
       "      <td>25799.08247</td>\n",
       "    </tr>\n",
       "    <tr>\n",
       "      <th>min</th>\n",
       "      <td>0.000000e+00</td>\n",
       "      <td>1000.000000</td>\n",
       "      <td>0.000000</td>\n",
       "      <td>5000.000000</td>\n",
       "      <td>0.000000</td>\n",
       "      <td>0.0</td>\n",
       "      <td>1067.00000</td>\n",
       "    </tr>\n",
       "    <tr>\n",
       "      <th>25%</th>\n",
       "      <td>1.150000e+03</td>\n",
       "      <td>1999.000000</td>\n",
       "      <td>70.000000</td>\n",
       "      <td>125000.000000</td>\n",
       "      <td>3.000000</td>\n",
       "      <td>0.0</td>\n",
       "      <td>30459.00000</td>\n",
       "    </tr>\n",
       "    <tr>\n",
       "      <th>50%</th>\n",
       "      <td>2.950000e+03</td>\n",
       "      <td>2003.000000</td>\n",
       "      <td>105.000000</td>\n",
       "      <td>150000.000000</td>\n",
       "      <td>6.000000</td>\n",
       "      <td>0.0</td>\n",
       "      <td>49610.00000</td>\n",
       "    </tr>\n",
       "    <tr>\n",
       "      <th>75%</th>\n",
       "      <td>7.200000e+03</td>\n",
       "      <td>2008.000000</td>\n",
       "      <td>150.000000</td>\n",
       "      <td>150000.000000</td>\n",
       "      <td>9.000000</td>\n",
       "      <td>0.0</td>\n",
       "      <td>71546.00000</td>\n",
       "    </tr>\n",
       "    <tr>\n",
       "      <th>max</th>\n",
       "      <td>2.147484e+09</td>\n",
       "      <td>9999.000000</td>\n",
       "      <td>20000.000000</td>\n",
       "      <td>150000.000000</td>\n",
       "      <td>12.000000</td>\n",
       "      <td>0.0</td>\n",
       "      <td>99998.00000</td>\n",
       "    </tr>\n",
       "  </tbody>\n",
       "</table>\n",
       "</div>"
      ],
      "text/plain": [
       "              price  yearOfRegistration        powerPS      kilometer  \\\n",
       "count  3.715280e+05       371528.000000  371528.000000  371528.000000   \n",
       "mean   1.729514e+04         2004.577997     115.549477  125618.688228   \n",
       "std    3.587954e+06           92.866598     192.139578   40112.337051   \n",
       "min    0.000000e+00         1000.000000       0.000000    5000.000000   \n",
       "25%    1.150000e+03         1999.000000      70.000000  125000.000000   \n",
       "50%    2.950000e+03         2003.000000     105.000000  150000.000000   \n",
       "75%    7.200000e+03         2008.000000     150.000000  150000.000000   \n",
       "max    2.147484e+09         9999.000000   20000.000000  150000.000000   \n",
       "\n",
       "       monthOfRegistration  nrOfPictures    postalCode  \n",
       "count        371528.000000      371528.0  371528.00000  \n",
       "mean              5.734445           0.0   50820.66764  \n",
       "std               3.712412           0.0   25799.08247  \n",
       "min               0.000000           0.0    1067.00000  \n",
       "25%               3.000000           0.0   30459.00000  \n",
       "50%               6.000000           0.0   49610.00000  \n",
       "75%               9.000000           0.0   71546.00000  \n",
       "max              12.000000           0.0   99998.00000  "
      ]
     },
     "execution_count": 9,
     "metadata": {},
     "output_type": "execute_result"
    }
   ],
   "source": [
    "# view some statistics of the quantity columns\n",
    "df.describe()"
   ]
  },
  {
   "cell_type": "markdown",
   "metadata": {},
   "source": [
    "The `yearOfRegistration` has invalid values (1000 and 9999). The `monthOfRegistration` also has invalid value (0).\n",
    "\n",
    "The `nrOfPictures` have only one value 0."
   ]
  },
  {
   "cell_type": "markdown",
   "metadata": {},
   "source": [
    "#### Summary\n",
    "After assessing, our dataset has some of the following problems:\n",
    "- Columns have incorrect datatype: `dateCrawled`, `dateCreated`, `lastSeen`, `postalCode`\n",
    "- Columns have only one value (or nearly so): `nrOfPictures`, `seller`, `offerType`\n",
    "- Columns have invalid value: `yearOfRegistration`, `monthOfRegistration`\n",
    "- Columns have missing value: `notRepairedDamage`, `vehicleType`, `fuelType`, `model`, `gearbox`"
   ]
  },
  {
   "cell_type": "markdown",
   "metadata": {},
   "source": [
    "### Cleaning the Data\n",
    "Firstly, we need to drop useless columns."
   ]
  },
  {
   "cell_type": "code",
   "execution_count": 10,
   "metadata": {},
   "outputs": [],
   "source": [
    "# make a copy of our dataset\n",
    "df_cleaned = df.copy()"
   ]
  },
  {
   "cell_type": "code",
   "execution_count": 11,
   "metadata": {},
   "outputs": [
    {
     "data": {
      "text/plain": [
       "Index(['price', 'abtest', 'vehicleType', 'yearOfRegistration', 'gearbox',\n",
       "       'powerPS', 'model', 'kilometer', 'fuelType', 'brand',\n",
       "       'notRepairedDamage'],\n",
       "      dtype='object')"
      ]
     },
     "execution_count": 11,
     "metadata": {},
     "output_type": "execute_result"
    }
   ],
   "source": [
    "# drop useless columns\n",
    "columns_to_drop = ['dateCrawled', 'dateCreated', 'lastSeen', 'postalCode', 'name',\n",
    "                   'nrOfPictures', 'seller', 'offerType', 'monthOfRegistration']\n",
    "df_cleaned.drop(columns=columns_to_drop, inplace=True)\n",
    "df_cleaned.columns"
   ]
  },
  {
   "cell_type": "markdown",
   "metadata": {},
   "source": [
    "Then we deal with missing values. We can fill missing values of columns `notRepairedDamage`, `vehicleType`, `fuelType`, `gearbox` with the mode value. The `model` column is better if we fill missing values with `unknown`."
   ]
  },
  {
   "cell_type": "code",
   "execution_count": 12,
   "metadata": {},
   "outputs": [],
   "source": [
    "def fillna_with_mode(df, columns):\n",
    "    \"\"\"\n",
    "    Fill missing values in columns with mode\n",
    "    :param df: the pandas dataframe\n",
    "    :param columns: the list of columns need to fill missing values\n",
    "    :return: the dataframe after fillna with mode\n",
    "    \"\"\"\n",
    "    for col in columns:\n",
    "        df[col].fillna(df[col].mode()[0], inplace=True)\n",
    "    return df"
   ]
  },
  {
   "cell_type": "code",
   "execution_count": 13,
   "metadata": {},
   "outputs": [],
   "source": [
    "# fill missing values with mode\n",
    "columns_to_fillna = ['notRepairedDamage', 'vehicleType', 'fuelType', 'gearbox']\n",
    "df_cleaned = fillna_with_mode(df_cleaned, columns_to_fillna)"
   ]
  },
  {
   "cell_type": "code",
   "execution_count": 14,
   "metadata": {},
   "outputs": [],
   "source": [
    "# fill missing value in `model` column with `unknown` value\n",
    "df_cleaned['model'].fillna('unknown', inplace=True)"
   ]
  },
  {
   "cell_type": "code",
   "execution_count": 15,
   "metadata": {},
   "outputs": [
    {
     "data": {
      "text/plain": [
       "price                 0.0\n",
       "abtest                0.0\n",
       "vehicleType           0.0\n",
       "yearOfRegistration    0.0\n",
       "gearbox               0.0\n",
       "powerPS               0.0\n",
       "model                 0.0\n",
       "kilometer             0.0\n",
       "fuelType              0.0\n",
       "brand                 0.0\n",
       "notRepairedDamage     0.0\n",
       "dtype: float64"
      ]
     },
     "execution_count": 15,
     "metadata": {},
     "output_type": "execute_result"
    }
   ],
   "source": [
    "# check the result\n",
    "df_cleaned.isnull().mean()"
   ]
  },
  {
   "cell_type": "markdown",
   "metadata": {},
   "source": [
    "There are some invalid values in our dataset. They are a part of outliers. Let's determine and remove these outliers."
   ]
  },
  {
   "cell_type": "code",
   "execution_count": 16,
   "metadata": {},
   "outputs": [],
   "source": [
    "def remove_outliers(df, columns):\n",
    "    \"\"\"\n",
    "    Remove the outliers in columns\n",
    "    :param df: the pandas dataframe\n",
    "    :param columns: the list of columns need to remove outliers\n",
    "    :return df: the dataframe after remove outliers\n",
    "    \"\"\"\n",
    "    index_list = [] # list of outlier indexes\n",
    "    for col in columns:\n",
    "        Q1 = df[col].quantile(0.1) # first quartile\n",
    "        Q3 = df[col].quantile(0.9) # third quartile\n",
    "        IQR = Q3 - Q1 \n",
    "        upper = Q3 + 1.5 * IQR # upper bound\n",
    "        lower = Q1 - 1.5 * IQR # lower bound\n",
    "        ls = df.index[(df[col] < lower) | (df[col] > upper)]\n",
    "        index_list.extend(ls)\n",
    "    # remove outliers\n",
    "    index_list = sorted(set(index_list))\n",
    "    df = df.drop(index_list)\n",
    "    print(\"Removed {} rows\".format(len(index_list)))\n",
    "    return df"
   ]
  },
  {
   "cell_type": "code",
   "execution_count": 17,
   "metadata": {},
   "outputs": [
    {
     "name": "stdout",
     "output_type": "stream",
     "text": [
      "Removed 6374 rows\n"
     ]
    }
   ],
   "source": [
    "# remove outliers\n",
    "num_vars = ['price', 'yearOfRegistration', 'powerPS', 'kilometer']\n",
    "df_cleaned = remove_outliers(df_cleaned, num_vars)"
   ]
  },
  {
   "cell_type": "markdown",
   "metadata": {},
   "source": [
    "Finally, let's check the dataset after cleaning."
   ]
  },
  {
   "cell_type": "code",
   "execution_count": 18,
   "metadata": {},
   "outputs": [
    {
     "data": {
      "text/plain": [
       "(365154, 11)"
      ]
     },
     "execution_count": 18,
     "metadata": {},
     "output_type": "execute_result"
    }
   ],
   "source": [
    "df_cleaned.shape"
   ]
  },
  {
   "cell_type": "code",
   "execution_count": 19,
   "metadata": {},
   "outputs": [
    {
     "data": {
      "text/html": [
       "<div>\n",
       "<style scoped>\n",
       "    .dataframe tbody tr th:only-of-type {\n",
       "        vertical-align: middle;\n",
       "    }\n",
       "\n",
       "    .dataframe tbody tr th {\n",
       "        vertical-align: top;\n",
       "    }\n",
       "\n",
       "    .dataframe thead th {\n",
       "        text-align: right;\n",
       "    }\n",
       "</style>\n",
       "<table border=\"1\" class=\"dataframe\">\n",
       "  <thead>\n",
       "    <tr style=\"text-align: right;\">\n",
       "      <th></th>\n",
       "      <th>price</th>\n",
       "      <th>abtest</th>\n",
       "      <th>vehicleType</th>\n",
       "      <th>yearOfRegistration</th>\n",
       "      <th>gearbox</th>\n",
       "      <th>powerPS</th>\n",
       "      <th>model</th>\n",
       "      <th>kilometer</th>\n",
       "      <th>fuelType</th>\n",
       "      <th>brand</th>\n",
       "      <th>notRepairedDamage</th>\n",
       "    </tr>\n",
       "  </thead>\n",
       "  <tbody>\n",
       "    <tr>\n",
       "      <th>236120</th>\n",
       "      <td>600</td>\n",
       "      <td>test</td>\n",
       "      <td>kleinwagen</td>\n",
       "      <td>1996</td>\n",
       "      <td>manuell</td>\n",
       "      <td>45</td>\n",
       "      <td>corsa</td>\n",
       "      <td>150000</td>\n",
       "      <td>benzin</td>\n",
       "      <td>opel</td>\n",
       "      <td>nein</td>\n",
       "    </tr>\n",
       "    <tr>\n",
       "      <th>133381</th>\n",
       "      <td>4590</td>\n",
       "      <td>control</td>\n",
       "      <td>bus</td>\n",
       "      <td>2009</td>\n",
       "      <td>manuell</td>\n",
       "      <td>106</td>\n",
       "      <td>kangoo</td>\n",
       "      <td>150000</td>\n",
       "      <td>benzin</td>\n",
       "      <td>renault</td>\n",
       "      <td>nein</td>\n",
       "    </tr>\n",
       "    <tr>\n",
       "      <th>291231</th>\n",
       "      <td>1800</td>\n",
       "      <td>control</td>\n",
       "      <td>kombi</td>\n",
       "      <td>2000</td>\n",
       "      <td>automatik</td>\n",
       "      <td>230</td>\n",
       "      <td>a6</td>\n",
       "      <td>150000</td>\n",
       "      <td>benzin</td>\n",
       "      <td>audi</td>\n",
       "      <td>ja</td>\n",
       "    </tr>\n",
       "    <tr>\n",
       "      <th>175797</th>\n",
       "      <td>1000</td>\n",
       "      <td>test</td>\n",
       "      <td>kleinwagen</td>\n",
       "      <td>1992</td>\n",
       "      <td>manuell</td>\n",
       "      <td>45</td>\n",
       "      <td>andere</td>\n",
       "      <td>150000</td>\n",
       "      <td>benzin</td>\n",
       "      <td>fiat</td>\n",
       "      <td>nein</td>\n",
       "    </tr>\n",
       "    <tr>\n",
       "      <th>61919</th>\n",
       "      <td>3000</td>\n",
       "      <td>test</td>\n",
       "      <td>limousine</td>\n",
       "      <td>2005</td>\n",
       "      <td>manuell</td>\n",
       "      <td>0</td>\n",
       "      <td>sharan</td>\n",
       "      <td>150000</td>\n",
       "      <td>diesel</td>\n",
       "      <td>volkswagen</td>\n",
       "      <td>nein</td>\n",
       "    </tr>\n",
       "  </tbody>\n",
       "</table>\n",
       "</div>"
      ],
      "text/plain": [
       "        price   abtest vehicleType  yearOfRegistration    gearbox  powerPS  \\\n",
       "236120    600     test  kleinwagen                1996    manuell       45   \n",
       "133381   4590  control         bus                2009    manuell      106   \n",
       "291231   1800  control       kombi                2000  automatik      230   \n",
       "175797   1000     test  kleinwagen                1992    manuell       45   \n",
       "61919    3000     test   limousine                2005    manuell        0   \n",
       "\n",
       "         model  kilometer fuelType       brand notRepairedDamage  \n",
       "236120   corsa     150000   benzin        opel              nein  \n",
       "133381  kangoo     150000   benzin     renault              nein  \n",
       "291231      a6     150000   benzin        audi                ja  \n",
       "175797  andere     150000   benzin        fiat              nein  \n",
       "61919   sharan     150000   diesel  volkswagen              nein  "
      ]
     },
     "execution_count": 19,
     "metadata": {},
     "output_type": "execute_result"
    }
   ],
   "source": [
    "df_cleaned.sample(5)"
   ]
  },
  {
   "cell_type": "markdown",
   "metadata": {},
   "source": [
    "### Analyse and Visualise"
   ]
  },
  {
   "cell_type": "markdown",
   "metadata": {},
   "source": [
    "***Question 1: What factors affect the price of a used car?***"
   ]
  },
  {
   "cell_type": "markdown",
   "metadata": {},
   "source": [
    "To answer this question, we will take a look at the relationship between price and other features."
   ]
  },
  {
   "cell_type": "code",
   "execution_count": 20,
   "metadata": {},
   "outputs": [
    {
     "data": {
      "image/png": "[encoded data removed]",
      "text/plain": [
       "<matplotlib.figure.Figure at 0x7fe23bcf85c0>"
      ]
     },
     "metadata": {
      "needs_background": "light"
     },
     "output_type": "display_data"
    }
   ],
   "source": [
    "# visualise the correlation coefficient by heatmap\n",
    "corr = df_cleaned[num_vars].corr()\n",
    "plt.rcParams['figure.figsize'] = (8, 6)\n",
    "sns.heatmap(corr, annot=True, fmt='.2f')\n",
    "plt.title('Relationship Between Continuous Variables')\n",
    "plt.show()"
   ]
  },
  {
   "cell_type": "markdown",
   "metadata": {},
   "source": [
    "The `powerPS` and `yearOfRegistration` have a positive relationship with price. Whereas, the `kilometer` has a negative one.\n",
    "\n",
    "That means vehicles that are recently registered, higher horsepower engines, or less mileage will have a higher price."
   ]
  },
  {
   "cell_type": "code",
   "execution_count": 21,
   "metadata": {},
   "outputs": [],
   "source": [
    "def draw_boxplot(ax, df, x, y):\n",
    "    \"\"\"\n",
    "    Draw boxplot visualise the relationship between x and y\n",
    "    :param ax: the axis where the plot located in the figure\n",
    "    :param df: the pandas dataframe\n",
    "    :param x: categorical column in x axis\n",
    "    :param y: continuous column in y axis\n",
    "    \"\"\"\n",
    "    order = list(df[[x, y]].groupby(x).mean().sort_values(by=y, ascending=False).index)\n",
    "    sns.boxplot(ax=ax, data=df, x=x, y=y, order=order)"
   ]
  },
  {
   "cell_type": "code",
   "execution_count": 22,
   "metadata": {},
   "outputs": [
    {
     "data": {
      "image/png": "[encoded data removed]",
      "text/plain": [
       "<matplotlib.figure.Figure at 0x7fe2393d68d0>"
      ]
     },
     "metadata": {
      "needs_background": "light"
     },
     "output_type": "display_data"
    }
   ],
   "source": [
    "# visualise the relationship between price and categorical variables\n",
    "fig, axes = plt.subplots(2, 2, figsize=(16, 16))\n",
    "fig.suptitle('Relationship Between Price and Categorical Variables')\n",
    "draw_boxplot(axes[0, 0], df_cleaned, x='gearbox', y='price')\n",
    "draw_boxplot(axes[0, 1], df_cleaned, x='fuelType', y='price')\n",
    "draw_boxplot(axes[1, 0], df_cleaned, x='notRepairedDamage', y='price')\n",
    "draw_boxplot(axes[1, 1], df_cleaned, x='vehicleType', y='price')\n",
    "plt.show()"
   ]
  },
  {
   "cell_type": "markdown",
   "metadata": {},
   "source": [
    "According to the plot:\n",
    "- Vehicle with `automatic gearbox` has higher price than `manual gearbox`.\n",
    "- Vehicle with `repaired damage` has higher price than `not repaired damage`.\n",
    "- Vehicle with `hybrid fuel type` has higher price than others.\n",
    "- Vehicle with `suv type` has higher price than others."
   ]
  },
  {
   "cell_type": "code",
   "execution_count": 23,
   "metadata": {},
   "outputs": [],
   "source": [
    "def draw_barplot(df, x, y, limit=None):\n",
    "    \"\"\"\n",
    "    Draw barplot visualise the relationship between x and y\n",
    "    :param df: the pandas dataframe\n",
    "    :param x: categorical column in x axis\n",
    "    :param y: continuous column in y axis\n",
    "    :param limit: limit the number of bars - default None: no limit\n",
    "    \"\"\"\n",
    "    df_ordered = df[[x, y]].groupby(x).mean().reset_index().sort_values(by=y, ascending=False)[:limit]\n",
    "    sns.barplot(data=df_ordered, x=x, y=y)"
   ]
  },
  {
   "cell_type": "code",
   "execution_count": 24,
   "metadata": {},
   "outputs": [
    {
     "data": {
      "image/png": "[encoded data removed]",
      "text/plain": [
       "<matplotlib.figure.Figure at 0x7fe23bc9de80>"
      ]
     },
     "metadata": {
      "needs_background": "light"
     },
     "output_type": "display_data"
    }
   ],
   "source": [
    "# Plot top 10 brands have highest price\n",
    "plt.rcParams['figure.figsize'] = (16, 6)\n",
    "plt.title('Top 10 Brands Have Highest Price')\n",
    "draw_barplot(df_cleaned, x='brand', y='price', limit=10)\n",
    "plt.show()"
   ]
  },
  {
   "cell_type": "code",
   "execution_count": 25,
   "metadata": {},
   "outputs": [
    {
     "data": {
      "image/png": "[encoded data removed]",
      "text/plain": [
       "<matplotlib.figure.Figure at 0x7fe23684ad30>"
      ]
     },
     "metadata": {
      "needs_background": "light"
     },
     "output_type": "display_data"
    }
   ],
   "source": [
    "# Plot top 10 models have highest price\n",
    "plt.rcParams['figure.figsize'] = (16, 6)\n",
    "plt.title('Top 10 Models Have Highest Price')\n",
    "draw_barplot(df_cleaned, x='model', y='price', limit=10)\n",
    "plt.show()"
   ]
  },
  {
   "cell_type": "markdown",
   "metadata": {},
   "source": [
    "`Porsche` vehicles have highest price. However, the models having highest price are `Land Rover Range Rover Evoque`, `Audi Q3` and `Audi Q5`."
   ]
  },
  {
   "cell_type": "markdown",
   "metadata": {},
   "source": [
    "***Question 2: Which brands have most used cars?***"
   ]
  },
  {
   "cell_type": "code",
   "execution_count": 26,
   "metadata": {},
   "outputs": [
    {
     "name": "stdout",
     "output_type": "stream",
     "text": [
      "Number of brands: 40\n",
      "Ranked 1 brand: volkswagen - 78995 cars (21.63%)\n",
      "Ranked 2 brand: opel - 39968 cars (10.95%)\n",
      "Ranked 3 brand: bmw - 39450 cars (10.80%)\n"
     ]
    },
    {
     "data": {
      "text/plain": [
       "[None, None, None]"
      ]
     },
     "execution_count": 26,
     "metadata": {},
     "output_type": "execute_result"
    }
   ],
   "source": [
    "# count the values of brand\n",
    "brand_counts = df_cleaned.brand.value_counts()\n",
    "\n",
    "print(\"Number of brands: {}\".format(brand_counts.shape[0]))\n",
    "[print(\"Ranked {} brand: {} - {} cars ({:.2f}%)\".format(i + 1, brand_counts.index[i], brand_counts[i], \\\n",
    "                                                 brand_counts[i] / df_cleaned.shape[0] * 100)) for i in range(3)]"
   ]
  },
  {
   "cell_type": "code",
   "execution_count": 27,
   "metadata": {},
   "outputs": [
    {
     "data": {
      "image/png": "[encoded data removed]",
      "text/plain": [
       "<matplotlib.figure.Figure at 0x7fe236868a58>"
      ]
     },
     "metadata": {
      "needs_background": "light"
     },
     "output_type": "display_data"
    }
   ],
   "source": [
    "# draw plot visualise the number of used cars by brand\n",
    "plt.rcParams['figure.figsize'] = (16, 10)\n",
    "sns.countplot(data=df_cleaned, y='brand', order=brand_counts.index[:10])\n",
    "plt.title(\"Number of used cars by Brand\")\n",
    "plt.show()"
   ]
  },
  {
   "cell_type": "markdown",
   "metadata": {},
   "source": [
    "There are 40 car brands in the dataset. \n",
    "The number of `Volkswagen` used cars accounted for the most in the data set, up to 79000 vehicles (22%), nearly equal to the total number of used cars of the 2nd and 3rd ranked brand, `Opel` and `BMW`."
   ]
  },
  {
   "cell_type": "markdown",
   "metadata": {},
   "source": [
    "***Question 3: Should we choose an automatic or manual car?***"
   ]
  },
  {
   "cell_type": "code",
   "execution_count": 28,
   "metadata": {},
   "outputs": [
    {
     "data": {
      "image/png": "[encoded data removed]",
      "text/plain": [
       "<matplotlib.figure.Figure at 0x7fe233f41128>"
      ]
     },
     "metadata": {
      "needs_background": "light"
     },
     "output_type": "display_data"
    }
   ],
   "source": [
    "# draw plot visualise the number of used cars by gearbox\n",
    "plt.rcParams['figure.figsize'] = (8, 8)\n",
    "sns.countplot(data=df_cleaned, x='gearbox')\n",
    "plt.title('Number of Used Cars by Gearbox')\n",
    "plt.show()"
   ]
  },
  {
   "cell_type": "code",
   "execution_count": 29,
   "metadata": {},
   "outputs": [
    {
     "data": {
      "image/png": "[encoded data removed]",
      "text/plain": [
       "<matplotlib.figure.Figure at 0x7fe23bc9d978>"
      ]
     },
     "metadata": {
      "needs_background": "light"
     },
     "output_type": "display_data"
    }
   ],
   "source": [
    "# visualise the powerPS by gearbox\n",
    "df_gearbox = df_cleaned.groupby(by='gearbox').mean().reset_index()\n",
    "sns.barplot(data=df_gearbox, x='gearbox', y='powerPS',)\n",
    "plt.title('Average engine power (PS) by Gearbox')\n",
    "plt.show()"
   ]
  },
  {
   "cell_type": "markdown",
   "metadata": {},
   "source": [
    "- The number of manual cars is nearly 4 times more than automatic cars. That gives you more choices when choosing manual cars.\n",
    "- Whereas automatic gearbox has higher average enginer power and also higher price than manual gearbox. That's understandable since automatic vehicles adopt more modern technology."
   ]
  },
  {
   "cell_type": "markdown",
   "metadata": {},
   "source": [
    "## Data Modeling"
   ]
  },
  {
   "cell_type": "markdown",
   "metadata": {},
   "source": [
    "Next, we will build a machine learning model used to predict car prices.\n",
    "\n",
    "Firstly, I create a dummy dataframe to convert categorical variables to numeric variables. Then I use **Random Forest** to build our model. And I use cross validation technique to train and validate the model based on r-score."
   ]
  },
  {
   "cell_type": "code",
   "execution_count": 30,
   "metadata": {},
   "outputs": [
    {
     "data": {
      "text/plain": [
       "(365154, 309)"
      ]
     },
     "execution_count": 30,
     "metadata": {},
     "output_type": "execute_result"
    }
   ],
   "source": [
    "# create dummies for categorical variables\n",
    "cat_vars = list(df_cleaned.select_dtypes('object').columns)\n",
    "df_dummies = pd.get_dummies(df_cleaned, prefix=cat_vars, columns=cat_vars, drop_first=True)\n",
    "df_dummies.shape"
   ]
  },
  {
   "cell_type": "code",
   "execution_count": 31,
   "metadata": {},
   "outputs": [],
   "source": [
    "# split X and y\n",
    "y = df_dummies['price']\n",
    "X = df_dummies.drop('price', axis=1)"
   ]
  },
  {
   "cell_type": "code",
   "execution_count": 32,
   "metadata": {},
   "outputs": [
    {
     "name": "stdout",
     "output_type": "stream",
     "text": [
      "[CV]  ................................................................\n",
      "[CV] ................................................. , total= 1.0min\n",
      "[CV]  ................................................................\n"
     ]
    },
    {
     "name": "stderr",
     "output_type": "stream",
     "text": [
      "[Parallel(n_jobs=1)]: Done   1 out of   1 | elapsed:  1.1min remaining:    0.0s\n"
     ]
    },
    {
     "name": "stdout",
     "output_type": "stream",
     "text": [
      "[CV] ................................................. , total=  59.5s\n",
      "[CV]  ................................................................\n",
      "[CV] ................................................. , total=  59.0s\n",
      "[CV]  ................................................................\n",
      "[CV] ................................................. , total= 1.0min\n",
      "[CV]  ................................................................\n",
      "[CV] ................................................. , total=  58.6s\n"
     ]
    },
    {
     "name": "stderr",
     "output_type": "stream",
     "text": [
      "[Parallel(n_jobs=1)]: Done   5 out of   5 | elapsed:  5.2min finished\n"
     ]
    }
   ],
   "source": [
    "# initiate the model and use cross validation to train the model\n",
    "model = RandomForestRegressor()\n",
    "result = cross_validate(model, X, y, cv=5, verbose=2, return_train_score=True)"
   ]
  },
  {
   "cell_type": "code",
   "execution_count": 33,
   "metadata": {},
   "outputs": [
    {
     "name": "stdout",
     "output_type": "stream",
     "text": [
      "train score: 0.9584910060801859\n",
      "test score: 0.8673186850250547\n"
     ]
    }
   ],
   "source": [
    "# get average score after 5 times training\n",
    "train_score = result['train_score'].mean()\n",
    "test_score = result['test_score'].mean()\n",
    "print(\"train score: {}\\ntest score: {}\".format(train_score, test_score))"
   ]
  },
  {
   "cell_type": "markdown",
   "metadata": {},
   "source": [
    "The test score is pretty high 86.7% and the train score is 95.8%. It seems our model is a little bit overfitting, but in general it's a good model to predict used car prices. "
   ]
  },
  {
   "cell_type": "markdown",
   "metadata": {},
   "source": [
    "## Conclusion"
   ]
  },
  {
   "cell_type": "markdown",
   "metadata": {},
   "source": [
    "I used a dataset from Kaggle about used cars. After assessing, cleaning and analysing the dataset, I have some conclusion for our questions:\n",
    "- ***Question 1: What factors affect the price of a used car?***\n",
    "\n",
    "There are many factors affect the used car price. Some positive (engine power, year of registration), some negative (milage), some depends on the type of gearbox, fuel type, vehicle type, brand, model, and whether damaged has been repaired or not.\n",
    "- ***Question 2: Which brands have most used cars?***\n",
    "\n",
    "`Volkswagen` has most used cars. It can be a good choice since its price does not in top 10 expensive cars.\n",
    "- ***Question 3: Should we choose an automatic or manual car?***\n",
    "\n",
    "The manual gearbox has more cars than automatic one. However, automatic cars are more modern, they has higher engine power and also higher price. Therefore the final decision depends on your opinion.\n",
    "\n",
    "For a reference price when choosing a used car, you can use the above model to predict car price. It can predict up to 86.7% accuracy."
   ]
  },
  {
   "cell_type": "code",
   "execution_count": null,
   "metadata": {},
   "outputs": [],
   "source": []
  }
 ],
 "metadata": {
  "kernelspec": {
   "display_name": "Python 3",
   "language": "python",
   "name": "python3"
  },
  "language_info": {
   "codemirror_mode": {
    "name": "ipython",
    "version": 3
   },
   "file_extension": ".py",
   "mimetype": "text/x-python",
   "name": "python",
   "nbconvert_exporter": "python",
   "pygments_lexer": "ipython3",
   "version": "3.6.3"
  }
 },
 "nbformat": 4,
 "nbformat_minor": 2
}
